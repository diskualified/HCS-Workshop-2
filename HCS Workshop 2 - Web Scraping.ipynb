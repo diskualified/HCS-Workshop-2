{
 "cells": [
  {
   "cell_type": "code",
   "execution_count": 65,
   "metadata": {},
   "outputs": [],
   "source": [
    "import requests \n",
    "page = requests.get('https://www.espn.com/nfl/standings')\n",
    "from bs4 import BeautifulSoup\n",
    "soup = BeautifulSoup(page.content, 'html.parser')"
   ]
  },
  {
   "cell_type": "code",
   "execution_count": 66,
   "metadata": {},
   "outputs": [
    {
     "name": "stdout",
     "output_type": "stream",
     "text": [
      "AFC East\n",
      "BUFBuffalo Bills\n",
      "MIAMiami Dolphins\n",
      "NENew England Patriots\n",
      "NYJNew York Jets\n",
      "AFC North\n",
      "PITPittsburgh Steelers\n",
      "BALBaltimore Ravens\n",
      "CLECleveland Browns\n",
      "CINCincinnati Bengals\n",
      "AFC South\n",
      "TENTennessee Titans\n",
      "INDIndianapolis Colts\n",
      "HOUHouston Texans\n",
      "JAXJacksonville Jaguars\n",
      "AFC West\n",
      "KCKansas City Chiefs\n",
      "LVLas Vegas Raiders\n",
      "DENDenver Broncos\n",
      "LACLos Angeles Chargers\n"
     ]
    }
   ],
   "source": [
    "AFC_table = soup.find(class_ = \"Table__TBODY\")\n",
    "for team in AFC_table:\n",
    "    print(team.get_text())"
   ]
  },
  {
   "cell_type": "code",
   "execution_count": 67,
   "metadata": {},
   "outputs": [
    {
     "name": "stdout",
     "output_type": "stream",
     "text": [
      "MIAMiami Dolphins\n",
      "BALBaltimore Ravens\n",
      "INDIndianapolis Colts\n",
      "LVLas Vegas Raiders\n"
     ]
    }
   ],
   "source": [
    "division = AFC_table.find_all(class_ = 'filled Table__TR Table__TR--sm Table__even')\n",
    "for second in division:\n",
    "    print(second.get_text())"
   ]
  },
  {
   "cell_type": "code",
   "execution_count": null,
   "metadata": {},
   "outputs": [],
   "source": []
  },
  {
   "cell_type": "code",
   "execution_count": null,
   "metadata": {},
   "outputs": [],
   "source": []
  }
 ],
 "metadata": {
  "kernelspec": {
   "display_name": "Python 3",
   "language": "python",
   "name": "python3"
  },
  "language_info": {
   "codemirror_mode": {
    "name": "ipython",
    "version": 3
   },
   "file_extension": ".py",
   "mimetype": "text/x-python",
   "name": "python",
   "nbconvert_exporter": "python",
   "pygments_lexer": "ipython3",
   "version": "3.8.3"
  }
 },
 "nbformat": 4,
 "nbformat_minor": 4
}
